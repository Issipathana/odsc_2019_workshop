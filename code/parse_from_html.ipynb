{
 "cells": [
  {
   "cell_type": "markdown",
   "metadata": {},
   "source": [
    "This notebook contains the necessary steps to parse the text of AODA and it's Regulation from the links below, using `requests`, `BeautifulSoup` and some custom functions:\n",
    "\n",
    "* Act: https://www.ontario.ca/laws/statute/05a11#BK11\n",
    "* Regulation: https://www.ontario.ca/laws/regulation/110191/v5"
   ]
  },
  {
   "cell_type": "code",
   "execution_count": 1,
   "metadata": {},
   "outputs": [],
   "source": [
    "import re\n",
    "import requests\n",
    "from bs4.element import Tag\n",
    "from bs4 import BeautifulSoup\n",
    "from utils import get_headnotes, LAW_REGEX"
   ]
  },
  {
   "cell_type": "code",
   "execution_count": 2,
   "metadata": {},
   "outputs": [],
   "source": [
    "aoda_url = 'https://www.ontario.ca/laws/statute/05a11#BK11'\n",
    "reg_url = 'https://www.ontario.ca/laws/regulation/110191/v5'"
   ]
  },
  {
   "cell_type": "code",
   "execution_count": 3,
   "metadata": {},
   "outputs": [],
   "source": [
    "r = requests.get(aoda_url)\n",
    "soup = BeautifulSoup(r.text, 'html.parser')\n",
    "aoda_html = list(soup.children)[-2]"
   ]
  },
  {
   "cell_type": "code",
   "execution_count": 4,
   "metadata": {},
   "outputs": [],
   "source": [
    "r = requests.get(reg_url)\n",
    "soup = BeautifulSoup(r.text, 'html.parser')\n",
    "reg_html = list(soup.children)[-2]"
   ]
  },
  {
   "cell_type": "markdown",
   "metadata": {},
   "source": [
    "We take out of the text legal references to other laws and regulations\n",
    "\n",
    "Examples:\n",
    "* urther defining the persons or organizations that are part of the industry, sector of the economy or class specified by the Minister under clause (a).  `2005, c. 11, s. 8 (2).`\n",
    "* Except as otherwise provided in this Regulation, this Regulation applies to the Government of Ontario, the Legislative Assembly, every designated public sector organization and to every other person or organization that provides goods, services or facilities to the public or other third parties and that has at least one employee in Ontario.  `O. Reg. 191/11, s. 1 (3).`\n",
    "\n",
    "This use of punctuation can make tokenization harder, so we swap the reference for an ID in the format `ref{n}`\n",
    "\n",
    "**LAW_REGEX**: `(O. ?Reg. ?[0-9]+/[0-9]+)(,?\\\\.? ?[sS](chedule)?\\\\.? [0-9]+)+( \\\\([0-9]+\\\\))?\\\\.|([0-9]{4},) (c. [0-9]+)(, Sched. [A-Z]+)?(, s. [0-9]+)?( \\\\([0-9]+\\\\))?\\\\.`"
   ]
  },
  {
   "cell_type": "code",
   "execution_count": 5,
   "metadata": {},
   "outputs": [],
   "source": [
    "law_to_ref = {}\n",
    "for ref in set([ref.group() for ref in re.finditer(LAW_REGEX, aoda_html.text.replace('\\xa0', ' '))\n",
    "               ] + [ref.group() for ref in re.finditer(LAW_REGEX, reg_html.text.replace('\\xa0', ' '))]):\n",
    "    law_to_ref[ref] = 'REF{}'.format(len(law_to_ref) + 1)"
   ]
  },
  {
   "cell_type": "code",
   "execution_count": 6,
   "metadata": {},
   "outputs": [
    {
     "data": {
      "text/plain": [
       "491"
      ]
     },
     "execution_count": 6,
     "metadata": {},
     "output_type": "execute_result"
    }
   ],
   "source": [
    "len(law_to_ref)"
   ]
  },
  {
   "cell_type": "code",
   "execution_count": 7,
   "metadata": {},
   "outputs": [],
   "source": [
    "headnotes_aoda = get_headnotes(aoda_html, 'AODA')"
   ]
  },
  {
   "cell_type": "code",
   "execution_count": 8,
   "metadata": {},
   "outputs": [],
   "source": [
    "headnotes_reg = get_headnotes(reg_html, 'REG')"
   ]
  },
  {
   "cell_type": "code",
   "execution_count": 9,
   "metadata": {},
   "outputs": [],
   "source": [
    "aoda = {**headnotes_aoda, **headnotes_reg}"
   ]
  },
  {
   "cell_type": "code",
   "execution_count": 10,
   "metadata": {},
   "outputs": [],
   "source": [
    "import spacy\n",
    "nlp = spacy.load('en')"
   ]
  },
  {
   "cell_type": "code",
   "execution_count": 11,
   "metadata": {},
   "outputs": [],
   "source": [
    "doc = nlp(aoda['AODA Purpose'])"
   ]
  },
  {
   "cell_type": "code",
   "execution_count": 12,
   "metadata": {},
   "outputs": [],
   "source": [
    "sentences = []\n",
    "\n",
    "for section, text in aoda.items():\n",
    "    for i, sent in enumerate(nlp(text).sents):\n",
    "        sentences.append({\n",
    "         'section': section,\n",
    "         'text': sent,\n",
    "        })"
   ]
  },
  {
   "cell_type": "code",
   "execution_count": 13,
   "metadata": {},
   "outputs": [
    {
     "data": {
      "text/plain": [
       "1186"
      ]
     },
     "execution_count": 13,
     "metadata": {},
     "output_type": "execute_result"
    }
   ],
   "source": [
    "len(sentences)"
   ]
  },
  {
   "cell_type": "code",
   "execution_count": 14,
   "metadata": {},
   "outputs": [],
   "source": [
    "import pandas as pd"
   ]
  },
  {
   "cell_type": "code",
   "execution_count": 15,
   "metadata": {},
   "outputs": [],
   "source": [
    "# pd.DataFrame(sentences).reset_index().to_csv('../data/sentences.csv', index=False)"
   ]
  }
 ],
 "metadata": {
  "kernelspec": {
   "display_name": "Python 3",
   "language": "python",
   "name": "python3"
  },
  "language_info": {
   "codemirror_mode": {
    "name": "ipython",
    "version": 3
   },
   "file_extension": ".py",
   "mimetype": "text/x-python",
   "name": "python",
   "nbconvert_exporter": "python",
   "pygments_lexer": "ipython3",
   "version": "3.6.5"
  }
 },
 "nbformat": 4,
 "nbformat_minor": 2
}
